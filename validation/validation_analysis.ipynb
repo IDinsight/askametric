{
 "cells": [
  {
   "cell_type": "code",
   "execution_count": null,
   "metadata": {},
   "outputs": [],
   "source": [
    "import pandas as pd"
   ]
  },
  {
   "cell_type": "code",
   "execution_count": null,
   "metadata": {},
   "outputs": [],
   "source": [
    "df = pd.read_csv('results/<<<ENTER RESULT FILE NAME>>>.csv')"
   ]
  },
  {
   "cell_type": "markdown",
   "metadata": {},
   "source": [
    "### Requests that Failed"
   ]
  },
  {
   "cell_type": "code",
   "execution_count": null,
   "metadata": {},
   "outputs": [],
   "source": [
    "# Only show question, question_metadata, and request_status columns in the df loc command\n",
    "errors = df.loc[df[\"request_status\"]!=\"Success\", [\"db_name\", \"question\",\"question_metadata\",\"request_status\"]]\n",
    "\n",
    "errors"
   ]
  },
  {
   "cell_type": "markdown",
   "metadata": {},
   "source": [
    "### Overall Statistics across all data"
   ]
  },
  {
   "cell_type": "code",
   "execution_count": null,
   "metadata": {},
   "outputs": [],
   "source": [
    "from askametric.validation.validation_processor import QueryEvaluator\n",
    "\n",
    "evaluator = QueryEvaluator(llm=\"gpt-4o\")\n",
    "\n",
    "summary = evaluator.summarize_results(df)\n",
    "summary"
   ]
  },
  {
   "cell_type": "code",
   "execution_count": null,
   "metadata": {},
   "outputs": [],
   "source": [
    "# Adjusted overall accuracy - sum of accuracy score + guardrails score\n",
    "# This tells us how many questions the bot performs as expected\n",
    "\n",
    "overall_accuracy = (df.accuracy_score.sum() + df.guardrails_score.sum()) / len(df)\n",
    "\n",
    "print(f\"Accuracy: {round(overall_accuracy, 3)*100}%\")"
   ]
  },
  {
   "cell_type": "markdown",
   "metadata": {},
   "source": [
    "### By DB Score"
   ]
  },
  {
   "cell_type": "code",
   "execution_count": null,
   "metadata": {},
   "outputs": [],
   "source": [
    "# Run evaluator.summarize_results on each db_name\n",
    "for db_name in df[\"db_name\"].unique():\n",
    "    print(\"\\n\", db_name)\n",
    "    db_df = df[df[\"db_name\"] == db_name]\n",
    "    summary = evaluator.summarize_results(db_df)\n",
    "    print(summary)\n",
    "    \n",
    "    overall_accuracy = (db_df.accuracy_score.sum() + db_df.guardrails_score.sum()) / len(db_df)\n",
    "    print(f\"\\nAccuracy: {round(overall_accuracy, 3)*100}%\")"
   ]
  },
  {
   "cell_type": "code",
   "execution_count": null,
   "metadata": {},
   "outputs": [],
   "source": []
  }
 ],
 "metadata": {
  "kernelspec": {
   "display_name": "aam_pypy",
   "language": "python",
   "name": "python3"
  },
  "language_info": {
   "codemirror_mode": {
    "name": "ipython",
    "version": 3
   },
   "file_extension": ".py",
   "mimetype": "text/x-python",
   "name": "python",
   "nbconvert_exporter": "python",
   "pygments_lexer": "ipython3",
   "version": "3.11.0"
  }
 },
 "nbformat": 4,
 "nbformat_minor": 2
}
