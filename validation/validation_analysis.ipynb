{
 "cells": [
  {
   "cell_type": "code",
   "execution_count": 1,
   "metadata": {},
   "outputs": [],
   "source": [
    "import pandas as pd"
   ]
  },
  {
   "cell_type": "code",
   "execution_count": 2,
   "metadata": {},
   "outputs": [],
   "source": [
    "df = pd.read_csv('results/results_20241119_122357.csv')"
   ]
  },
  {
   "cell_type": "markdown",
   "metadata": {},
   "source": [
    "### Requests that Failed"
   ]
  },
  {
   "cell_type": "code",
   "execution_count": 3,
   "metadata": {},
   "outputs": [
    {
     "data": {
      "text/html": [
       "<div>\n",
       "<style scoped>\n",
       "    .dataframe tbody tr th:only-of-type {\n",
       "        vertical-align: middle;\n",
       "    }\n",
       "\n",
       "    .dataframe tbody tr th {\n",
       "        vertical-align: top;\n",
       "    }\n",
       "\n",
       "    .dataframe thead th {\n",
       "        text-align: right;\n",
       "    }\n",
       "</style>\n",
       "<table border=\"1\" class=\"dataframe\">\n",
       "  <thead>\n",
       "    <tr style=\"text-align: right;\">\n",
       "      <th></th>\n",
       "      <th>question</th>\n",
       "      <th>question_metadata</th>\n",
       "      <th>request_status</th>\n",
       "    </tr>\n",
       "  </thead>\n",
       "  <tbody>\n",
       "    <tr>\n",
       "      <th>18</th>\n",
       "      <td>Are there any outliers in terms of performance...</td>\n",
       "      <td>{'class_id': '65966'}</td>\n",
       "      <td>Error: (sqlite3.OperationalError) ORDER BY cla...</td>\n",
       "    </tr>\n",
       "    <tr>\n",
       "      <th>23</th>\n",
       "      <td>Existe-t-il des valeurs aberrantes en termes d...</td>\n",
       "      <td>{'class_id': '65966'}</td>\n",
       "      <td>Error: (sqlite3.OperationalError) ORDER BY cla...</td>\n",
       "    </tr>\n",
       "    <tr>\n",
       "      <th>27</th>\n",
       "      <td>هناك أي قيم شاذة من حيث الأداء عبر جميع المجال...</td>\n",
       "      <td>{'class_id': '65966'}</td>\n",
       "      <td>Error: (sqlite3.OperationalError) ORDER BY cla...</td>\n",
       "    </tr>\n",
       "  </tbody>\n",
       "</table>\n",
       "</div>"
      ],
      "text/plain": [
       "                                             question      question_metadata  \\\n",
       "18  Are there any outliers in terms of performance...  {'class_id': '65966'}   \n",
       "23  Existe-t-il des valeurs aberrantes en termes d...  {'class_id': '65966'}   \n",
       "27  هناك أي قيم شاذة من حيث الأداء عبر جميع المجال...  {'class_id': '65966'}   \n",
       "\n",
       "                                       request_status  \n",
       "18  Error: (sqlite3.OperationalError) ORDER BY cla...  \n",
       "23  Error: (sqlite3.OperationalError) ORDER BY cla...  \n",
       "27  Error: (sqlite3.OperationalError) ORDER BY cla...  "
      ]
     },
     "execution_count": 3,
     "metadata": {},
     "output_type": "execute_result"
    }
   ],
   "source": [
    "# Only show question, question_metadata, and request_status columns in the df loc command\n",
    "errors = df.loc[df[\"request_status\"]!=\"Success\", [\"question\",\"question_metadata\",\"request_status\"]]\n",
    "\n",
    "errors"
   ]
  },
  {
   "cell_type": "markdown",
   "metadata": {},
   "source": [
    "### Overall Statistics across all data"
   ]
  },
  {
   "cell_type": "code",
   "execution_count": 4,
   "metadata": {},
   "outputs": [
    {
     "data": {
      "text/plain": [
       "relevancy_score                  95.000000\n",
       "accuracy_score                   82.500000\n",
       "accuracy_is_correct_language     97.500000\n",
       "accuracy_is_correct_script      100.000000\n",
       "schema_has_best_tables           97.435897\n",
       "schema_has_best_columns          92.307692\n",
       "consistency_score                36.363636\n",
       "guardrails_score                 58.333333\n",
       "dtype: float64"
      ]
     },
     "execution_count": 4,
     "metadata": {},
     "output_type": "execute_result"
    }
   ],
   "source": [
    "from askametric.validation.validation_processor import QueryEvaluator\n",
    "\n",
    "evaluator = QueryEvaluator(llm=\"gpt-4o\")\n",
    "\n",
    "summary = evaluator.summarize_results(df)\n",
    "summary"
   ]
  },
  {
   "cell_type": "code",
   "execution_count": 5,
   "metadata": {},
   "outputs": [
    {
     "name": "stdout",
     "output_type": "stream",
     "text": [
      "Accuracy: 72.7%\n"
     ]
    }
   ],
   "source": [
    "# Adjusted overall accuracy - sum of accuracy score + guardrails score\n",
    "# This tells us how many questions the bot performs as expected\n",
    "\n",
    "overall_accuracy = (df.accuracy_score.sum() + df.guardrails_score.sum()) / len(df)\n",
    "\n",
    "print(f\"Accuracy: {round(overall_accuracy, 3)*100}%\")"
   ]
  },
  {
   "cell_type": "markdown",
   "metadata": {},
   "source": [
    "### By DB Score"
   ]
  },
  {
   "cell_type": "code",
   "execution_count": 6,
   "metadata": {},
   "outputs": [
    {
     "name": "stdout",
     "output_type": "stream",
     "text": [
      "\n",
      " up_desu\n",
      "relevancy_score                  90.909091\n",
      "accuracy_score                   81.818182\n",
      "accuracy_is_correct_language    100.000000\n",
      "accuracy_is_correct_script      100.000000\n",
      "schema_has_best_tables          100.000000\n",
      "schema_has_best_columns         100.000000\n",
      "consistency_score                50.000000\n",
      "guardrails_score                       NaN\n",
      "dtype: float64\n",
      "\n",
      "Accuracy: 81.8%\n",
      "\n",
      " fmps\n",
      "relevancy_score                  91.666667\n",
      "accuracy_score                   75.000000\n",
      "accuracy_is_correct_language    100.000000\n",
      "accuracy_is_correct_script      100.000000\n",
      "schema_has_best_tables           91.666667\n",
      "schema_has_best_columns          75.000000\n",
      "consistency_score                50.000000\n",
      "guardrails_score                  0.000000\n",
      "dtype: float64\n",
      "\n",
      "Accuracy: 45.0%\n",
      "\n",
      " tkpi\n",
      "relevancy_score                 100.000000\n",
      "accuracy_score                   66.666667\n",
      "accuracy_is_correct_language    100.000000\n",
      "accuracy_is_correct_script      100.000000\n",
      "schema_has_best_tables          100.000000\n",
      "schema_has_best_columns         100.000000\n",
      "consistency_score                50.000000\n",
      "guardrails_score                       NaN\n",
      "dtype: float64\n",
      "\n",
      "Accuracy: 66.7%\n",
      "\n",
      " tn_covid\n",
      "relevancy_score                 100.000000\n",
      "accuracy_score                  100.000000\n",
      "accuracy_is_correct_language     90.909091\n",
      "accuracy_is_correct_script      100.000000\n",
      "schema_has_best_tables          100.000000\n",
      "schema_has_best_columns         100.000000\n",
      "consistency_score                 0.000000\n",
      "guardrails_score                100.000000\n",
      "dtype: float64\n",
      "\n",
      "Accuracy: 100.0%\n"
     ]
    },
    {
     "name": "stderr",
     "output_type": "stream",
     "text": [
      "/opt/homebrew/Caskroom/miniconda/base/envs/aam_pypy/lib/python3.11/site-packages/pandas/core/apply.py:1081: RuntimeWarning: Mean of empty slice\n",
      "  results[i] = self.func(v, *self.args, **self.kwargs)\n"
     ]
    }
   ],
   "source": [
    "# Run evaluator.summarize_results on each db_name\n",
    "for db_name in df[\"db_name\"].unique():\n",
    "    print(\"\\n\", db_name)\n",
    "    db_df = df[df[\"db_name\"] == db_name]\n",
    "    summary = evaluator.summarize_results(db_df)\n",
    "    print(summary)\n",
    "    \n",
    "    overall_accuracy = (db_df.accuracy_score.sum() + db_df.guardrails_score.sum()) / len(db_df)\n",
    "    print(f\"\\nAccuracy: {round(overall_accuracy, 3)*100}%\")"
   ]
  }
 ],
 "metadata": {
  "kernelspec": {
   "display_name": "aam_pypy",
   "language": "python",
   "name": "python3"
  },
  "language_info": {
   "codemirror_mode": {
    "name": "ipython",
    "version": 3
   },
   "file_extension": ".py",
   "mimetype": "text/x-python",
   "name": "python",
   "nbconvert_exporter": "python",
   "pygments_lexer": "ipython3",
   "version": "3.11.0"
  }
 },
 "nbformat": 4,
 "nbformat_minor": 2
}
