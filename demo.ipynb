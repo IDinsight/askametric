{
 "cells": [
  {
   "cell_type": "code",
   "execution_count": 1,
   "metadata": {},
   "outputs": [],
   "source": [
    "%load_ext autoreload\n",
    "%autoreload 2\n",
    "from dotenv import load_dotenv"
   ]
  },
  {
   "cell_type": "code",
   "execution_count": 2,
   "metadata": {},
   "outputs": [
    {
     "data": {
      "text/plain": [
       "True"
      ]
     },
     "execution_count": 2,
     "metadata": {},
     "output_type": "execute_result"
    }
   ],
   "source": [
    "# Load Environment Variables\n",
    "load_dotenv()"
   ]
  },
  {
   "cell_type": "code",
   "execution_count": 3,
   "metadata": {},
   "outputs": [],
   "source": [
    "# Create an engine to connect to the database\n",
    "\n",
    "from sqlalchemy.orm import sessionmaker\n",
    "from sqlalchemy.ext.asyncio import (\n",
    "    AsyncSession,\n",
    "    create_async_engine,\n",
    ")\n",
    "db_type=\"sqlite\"\n",
    "\n",
    "aengine = create_async_engine(\n",
    "    url=f\"{db_type}+aiosqlite:///demo_databases/tn_covid_cases_11_may.sqlite\"\n",
    ")\n",
    "\n",
    "async_session = sessionmaker(\n",
    "    bind=aengine,\n",
    "    class_=AsyncSession,\n",
    "    expire_on_commit=False\n",
    ")"
   ]
  },
  {
   "cell_type": "code",
   "execution_count": 4,
   "metadata": {},
   "outputs": [],
   "source": [
    "# Parameters\n",
    "metric_db_id = \"test\"\n",
    "llm = \"gpt-4o\"\n",
    "validation_llm = \"gpt-4o\"\n",
    "guardrails_llm = \"gpt-4o\"\n",
    "\n",
    "sys_message = \"Government and health officials in Tamil Nadu, India will ask you questions. You need to help them manage COVID cases and the availablity of beds in health facilities.\"\n",
    "\n",
    "db_description = \"\"\"\n",
    "[\n",
    " {\\\"name\\\":\\\"bed_vacancies_clinics_11_may\\\",\\\"description\\\":\\\"Each row identifies a district and the beds earmarked, occupied and available for COVID cases in the district clinics.\\\"},\n",
    " {\\\"name\\\":\\\"bed_vacancies_health_centers_and_district_hospitals_11_may\\\",\\\"description\\\":\\\"Each row identifies a district and the beds earmarked, occupied and available, with and without oxygen supply, and with and without ICU support, for COVID cases in the district health centers and hospitals.\\\"},\n",
    " {\\\"name\\\":\\\"covid_cases_11_may\\\",\\\"description\\\":\\\"Each row identifies a district and the number of people who received treatment, were discharged and died due to COVID.\\\"}\n",
    "]\n",
    "\"\"\"\n",
    "\n",
    "num_common_values = 10\n",
    "\n",
    "indicator_vars=\"district_name\" # This should be a comma delimited string in multiple vars\n"
   ]
  },
  {
   "cell_type": "markdown",
   "metadata": {},
   "source": [
    "### Generate database descriptions and suggested questions for end-users"
   ]
  },
  {
   "cell_type": "code",
   "execution_count": 5,
   "metadata": {},
   "outputs": [
    {
     "name": "stdout",
     "output_type": "stream",
     "text": [
      "DB description:\n",
      " The database contains information on COVID-19 management in Tamil Nadu, India, focusing on:\n",
      "\n",
      "- **Bed Availability:**\n",
      "  - Clinics: Details on earmarked, occupied, and vacant beds for COVID cases.\n",
      "  - Health Centers and Hospitals: Information on beds with/without oxygen supply and ICU support, including total vacant beds.\n",
      "\n",
      "- **COVID Cases:**\n",
      "  - District-wise data on the number of people under treatment, new cases, discharges, and deaths as of May 11.\n",
      "\n",
      "The database does not include:\n",
      "\n",
      "- Detailed patient demographics or individual health records.\n",
      "- Information on COVID-19 testing rates or vaccination data.\n",
      "- Financial or logistical data related to healthcare management.\n",
      "- Data beyond May 11 or projections for future trends.\n",
      "\n",
      "\n",
      "Suggested Questions:\n",
      " ['What is the total number of vacant beds available in clinics across all districts?', 'Which district has the highest number of new COVID-19 cases reported on 11th May?', \"How many beds with oxygen supply are currently vacant in Chennai's health centers and district hospitals?\", 'What is the total number of COVID-19 patients currently under treatment in the district of Chengalpattu?', 'How many ICU beds are vacant in the district hospitals of Ariyalur?']\n"
     ]
    }
   ],
   "source": [
    "from askametric.query_processor.db_descriptor.description_generator import get_db_descriptor\n",
    "\n",
    "db_descr = get_db_descriptor(llm=llm)\n",
    "\n",
    "async with async_session() as asession:\n",
    "    description = await db_descr.generate_db_description(\n",
    "        asession=asession,\n",
    "        metric_db_id=metric_db_id,\n",
    "        sys_message=sys_message,\n",
    "        table_description=db_description,\n",
    "        column_description=\"\"\n",
    ")\n",
    "    suggested_questions = await db_descr.generate_suggested_questions(\n",
    "        asession=asession,\n",
    "        metric_db_id=metric_db_id,\n",
    "        sys_message=sys_message,\n",
    "        table_description=db_description,\n",
    "        column_description=\"\",\n",
    "        # chat_history=chat_history\n",
    "    )\n",
    "\n",
    "\n",
    "print(f\"DB description:\\n {description}\\n\\n\")\n",
    "print(f\"Suggested Questions:\\n {suggested_questions}\")\n",
    "\n"
   ]
  },
  {
   "cell_type": "markdown",
   "metadata": {},
   "source": [
    "### Single-turn question"
   ]
  },
  {
   "cell_type": "code",
   "execution_count": 8,
   "metadata": {},
   "outputs": [],
   "source": [
    "# Your question\n",
    "query = {\n",
    "    \"query_text\": \"How many beds are available in chennai??\",\n",
    "    \"query_metadata\": {}\n",
    "}\n"
   ]
  },
  {
   "cell_type": "code",
   "execution_count": 9,
   "metadata": {},
   "outputs": [
    {
     "name": "stdout",
     "output_type": "stream",
     "text": [
      "The total number of available beds in Chennai is 4,471. This number is derived from two sources: 3,472 vacant beds from clinics and 999 vacant beds from health centers and district hospitals.\n"
     ]
    }
   ],
   "source": [
    "from askametric.query_processor.query_processor import LLMQueryProcessor\n",
    "\n",
    "async with async_session() as session:\n",
    "    qp = LLMQueryProcessor(\n",
    "        query,\n",
    "        session,\n",
    "        metric_db_id,\n",
    "        db_type,\n",
    "        llm,\n",
    "        guardrails_llm,\n",
    "        sys_message,\n",
    "        db_description,\n",
    "        column_description=\"\",\n",
    "        num_common_values=num_common_values,\n",
    "        indicator_vars=indicator_vars\n",
    "    )\n",
    "    await qp.process_query()\n",
    "    print(qp.final_answer)"
   ]
  },
  {
   "cell_type": "markdown",
   "metadata": {},
   "source": [
    "### Multi-turn chat"
   ]
  },
  {
   "cell_type": "code",
   "execution_count": 10,
   "metadata": {},
   "outputs": [],
   "source": [
    "# Simulating a conversation\n",
    "\n",
    "queries = [{\n",
    "    \"query_text\": \"How many beds are available in chennai??\",\n",
    "    \"query_metadata\": {}\n",
    "},\n",
    "{\n",
    "    \"query_text\": \"How about Ranipet??\",\n",
    "    \"query_metadata\": {}\n",
    "},\n",
    "{\n",
    "    \"query_text\": \"Inge irrukira COVID patients patthi sollu\",\n",
    "    \"query_metadata\": {}\n",
    "},\n",
    "{\n",
    "    \"query_text\": \"How many beds with oxygen supply in Ariyalur??\",\n",
    "    \"query_metadata\": {}\n",
    "},\n",
    "{\n",
    "    \"query_text\": \"And how many COVID patients here?\",\n",
    "    \"query_metadata\": {}\n",
    "},\n",
    "{\n",
    "    \"query_text\": \"No I want the information for Ariyalur\",\n",
    "    \"query_metadata\": {}\n",
    "},\n",
    "{\n",
    "    \"query_text\": \"Ranipet aur Ariyalur ke lie phir batao, kya kya jaankari diya hai aapne?\",\n",
    "    \"query_metadata\": {}\n",
    "},\n",
    "{\n",
    "    \"query_text\": \"What's the distribution of COVID patients in Madurai?\",\n",
    "    \"query_metadata\": {}\n",
    "}\n",
    "]"
   ]
  },
  {
   "cell_type": "code",
   "execution_count": 11,
   "metadata": {},
   "outputs": [
    {
     "name": "stdout",
     "output_type": "stream",
     "text": [
      "Q: How many beds are available in chennai??\n",
      "Query type: 1\n",
      "Reframed query: \n",
      "A: The total number of available beds in Chennai is 4,471. This number is derived from two sources: 3,472 vacant beds from clinics and 999 vacant beds from health centers and district hospitals.\n",
      "\n",
      "\n",
      "Q: How about Ranipet??\n",
      "Query type: 2\n",
      "Reframed query: What is the total number of available beds in Ranipet?\n",
      "A: The total number of available beds in Ranipet is 243. This total is derived from two sources: 153 vacant beds from clinics and 90 vacant beds from health centers and district hospitals in Ranipet.\n",
      "\n",
      "\n",
      "Q: Inge irrukira COVID patients patthi sollu\n",
      "Query type: 1\n",
      "Reframed query: \n",
      "A: Indha data-la COVID maruthuvamanai padukkai idhalum, maruthuvamanai nodigalil COVID maruthuvam petra manithargalum patri vivarangal irukkirathu. Neengal edhaavadhu kurippaga ketkalaam.\n",
      "\n",
      "\n",
      "Q: How many beds with oxygen supply in Ariyalur??\n",
      "Query type: 2\n",
      "Reframed query: What is the total number of beds with oxygen supply available in Ariyalur for COVID treatment?\n",
      "A: The total number of beds with oxygen supply available for COVID treatment in Ariyalur is 70. This information was obtained from the database that tracks bed vacancies in health centers and district hospitals.\n",
      "\n",
      "\n",
      "Q: And how many COVID patients here?\n",
      "Query type: 2\n",
      "Reframed query: And how many COVID patients are there in Ariyalur?\n",
      "A: As of the data available, there are 624 COVID patients currently under treatment in Ariyalur. This information was retrieved from a database query specifically looking at the number of persons under treatment on May 11th in the district of Ariyalur.\n",
      "\n",
      "\n",
      "Q: No I want the information for Ariyalur\n",
      "Query type: 3\n",
      "Reframed query: I want the information about COVID hospital bed availability and individuals who received COVID treatment in hospitals in Ariyalur.\n",
      "A: In Ariyalur, there are currently 70 beds with oxygen supply available for COVID treatment. Additionally, there are 624 individuals who are currently receiving COVID treatment in hospitals within the district. This information is based on the latest data available from health centers and district hospitals in Ariyalur.\n",
      "\n",
      "\n",
      "Q: Ranipet aur Ariyalur ke lie phir batao, kya kya jaankari diya hai aapne?\n",
      "Query type: 3\n",
      "Reframed query: Repeat the information provided about COVID hospital bed availability and individuals who received COVID treatment in hospitals for both Ranipet and Ariyalur.\n",
      "A: Ranipet mein COVID hospital bed availability aur treatment ki jankari yeh hai: Ranipet mein kul 243 beds available hain, jismein 153 beds clinics se aur 90 beds health centers aur district hospitals se hain. Ariyalur mein, 70 beds oxygen supply ke saath COVID treatment ke liye available hain aur 624 log hospital mein COVID treatment le rahe hain. Yeh jankari health centers aur district hospitals ke latest data par adharit hai.\n",
      "\n",
      "\n",
      "Q: What's the distribution of COVID patients in Madurai?\n",
      "Query type: 1\n",
      "Reframed query: \n",
      "A: The distribution of COVID patients in Madurai is as follows: there are a total of 6,178 confirmed cases, with 1,024 active cases currently. There have been 628 recoveries and 13 deaths reported. The total number of cases, including recoveries and deaths, is 6,561. This information was gathered from the database specifically for the district of Madurai.\n",
      "\n",
      "\n"
     ]
    }
   ],
   "source": [
    "from askametric.query_processor.query_processor import MultiTurnQueryProcessor\n",
    "\n",
    "chat_history = []\n",
    "async with async_session() as session:\n",
    "    for query in queries:\n",
    "        print(f\"Q: {query['query_text']}\")\n",
    "        mqp = MultiTurnQueryProcessor(\n",
    "            query=query,\n",
    "            asession=session,\n",
    "            metric_db_id=metric_db_id,\n",
    "            db_type=db_type,\n",
    "            llm=llm,\n",
    "            guardrails_llm=guardrails_llm,\n",
    "            sys_message=sys_message,\n",
    "            db_description=db_description,\n",
    "            column_description=\"\",\n",
    "            indicator_vars=indicator_vars,\n",
    "            num_common_values=num_common_values,\n",
    "            chat_history=chat_history\n",
    "        )\n",
    "        await mqp.process_query()\n",
    "        chat_history.append({\"user\": mqp.reframed_query,\n",
    "                             \"system\": mqp.translated_final_answer})\n",
    "        \n",
    "        \n",
    "        print(f\"Query type: {mqp.query_type}\")\n",
    "        print(f\"Reframed query: {mqp.reframed_query}\")\n",
    "        print(f\"A: {mqp.final_answer}\")\n",
    "        print(\"\\n\")"
   ]
  },
  {
   "cell_type": "code",
   "execution_count": null,
   "metadata": {},
   "outputs": [],
   "source": []
  }
 ],
 "metadata": {
  "kernelspec": {
   "display_name": "askametric-ks2MWf1j-py3.13",
   "language": "python",
   "name": "python3"
  },
  "language_info": {
   "codemirror_mode": {
    "name": "ipython",
    "version": 3
   },
   "file_extension": ".py",
   "mimetype": "text/x-python",
   "name": "python",
   "nbconvert_exporter": "python",
   "pygments_lexer": "ipython3",
   "version": "3.13.1"
  }
 },
 "nbformat": 4,
 "nbformat_minor": 2
}
