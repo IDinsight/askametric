{
 "cells": [
  {
   "cell_type": "code",
   "execution_count": null,
   "metadata": {},
   "outputs": [],
   "source": [
    "%load_ext autoreload\n",
    "%autoreload 2\n",
    "from dotenv import load_dotenv"
   ]
  },
  {
   "cell_type": "code",
   "execution_count": null,
   "metadata": {},
   "outputs": [],
   "source": [
    "# Load Environment Variables\n",
    "load_dotenv()"
   ]
  },
  {
   "cell_type": "code",
   "execution_count": null,
   "metadata": {},
   "outputs": [],
   "source": [
    "# Create an engine to connect to the database\n",
    "\n",
    "from sqlalchemy.orm import sessionmaker\n",
    "from sqlalchemy.ext.asyncio import (\n",
    "    AsyncSession,\n",
    "    create_async_engine,\n",
    ")\n",
    "db_type=\"sqlite\"\n",
    "\n",
    "aengine = create_async_engine(\n",
    "    url=f\"{db_type}+aiosqlite:///demo_databases/tn_covid_cases_11_may.sqlite\"\n",
    ")\n",
    "\n",
    "async_session = sessionmaker(\n",
    "    bind=aengine,\n",
    "    class_=AsyncSession,\n",
    "    expire_on_commit=False\n",
    ")"
   ]
  },
  {
   "cell_type": "code",
   "execution_count": null,
   "metadata": {},
   "outputs": [],
   "source": [
    "# Parameters\n",
    "metric_db_id = \"test\"\n",
    "llm = \"gpt-4o\"\n",
    "validation_llm = \"gpt-4o\"\n",
    "guardrails_llm = \"gpt-4o\"\n",
    "\n",
    "sys_message = \"Government and health officials in Tamil Nadu, India will ask you questions. You need to help them manage COVID cases and the availablity of beds in health facilities.\"\n",
    "\n",
    "db_description = \"[{\\\"name\\\":\\\"bed_vacancies_clinics_11_may\\\",\\\"description\\\":\\\"Each row identifies a district and the beds earmarked, occupied and available for COVID cases in the district clinics.\\\"},{\\\"name\\\":\\\"bed_vacancies_health_centers_and_district_hospitals_11_may\\\",\\\"description\\\":\\\"Each row identifies a district and the beds earmarked, occupied and available, with and without oxygen supply, and with and without ICU support, for COVID cases in the district health centers and hospitals.\\\"},{\\\"name\\\":\\\"covid_cases_11_may\\\",\\\"description\\\":\\\"Each row identifies a district and the number of people who received treatment, were discharged and died due to COVID.\\\"}]\"\n",
    "\n",
    "num_common_values = 10\n",
    "\n",
    "indicator_vars=\"district_name\" # This should be a comma delimited string in multiple vars\n"
   ]
  },
  {
   "cell_type": "markdown",
   "metadata": {},
   "source": [
    "### Generate database descriptions and suggested questions for end-users"
   ]
  },
  {
   "cell_type": "code",
   "execution_count": null,
   "metadata": {},
   "outputs": [],
   "source": [
    "from askametric.query_processor.db_descriptor import DatabaseDescriptor\n",
    "\n",
    "db_descr = DatabaseDescriptor(llm=llm)\n",
    "\n",
    "async with async_session() as asession:\n",
    "    description = await db_descr.generate_db_description(\n",
    "        asession=asession,\n",
    "        metric_db_id=metric_db_id,\n",
    "        sys_message=sys_message,\n",
    "        table_description=db_description,\n",
    "        column_description=\"\"\n",
    ")\n",
    "\n",
    "print(\"DB description:\\n\", description)"
   ]
  },
  {
   "cell_type": "markdown",
   "metadata": {},
   "source": [
    "### Single-turn question"
   ]
  },
  {
   "cell_type": "code",
   "execution_count": null,
   "metadata": {},
   "outputs": [],
   "source": [
    "# Your question\n",
    "query = {\n",
    "    \"query_text\": \"How many beds are available in chennai??\",\n",
    "    \"query_metadata\": {}\n",
    "}\n"
   ]
  },
  {
   "cell_type": "code",
   "execution_count": null,
   "metadata": {},
   "outputs": [],
   "source": [
    "from askametric.query_processor.query_processor import LLMQueryProcessor\n",
    "\n",
    "async with async_session() as session:\n",
    "    qp = LLMQueryProcessor(\n",
    "        query,\n",
    "        session,\n",
    "        metric_db_id,\n",
    "        db_type,\n",
    "        llm,\n",
    "        guardrails_llm,\n",
    "        sys_message,\n",
    "        db_description,\n",
    "        column_description=\"\",\n",
    "        num_common_values=num_common_values,\n",
    "        indicator_vars=indicator_vars\n",
    "    )\n",
    "    await qp.process_query()\n",
    "    print(qp.final_answer)"
   ]
  },
  {
   "cell_type": "markdown",
   "metadata": {},
   "source": [
    "### Multi-turn chat"
   ]
  },
  {
   "cell_type": "code",
   "execution_count": null,
   "metadata": {},
   "outputs": [],
   "source": [
    "# Simulating a conversation\n",
    "\n",
    "queries = [{\n",
    "    \"query_text\": \"How many beds are available in chennai??\",\n",
    "    \"query_metadata\": {}\n",
    "},\n",
    "{\n",
    "    \"query_text\": \"How about Ranipet??\",\n",
    "    \"query_metadata\": {}\n",
    "},\n",
    "{\n",
    "    \"query_text\": \"Inge irrukira COVID patients patthi sollu\",\n",
    "    \"query_metadata\": {}\n",
    "},\n",
    "{\n",
    "    \"query_text\": \"How many beds with oxygen supply in Ariyalur??\",\n",
    "    \"query_metadata\": {}\n",
    "},\n",
    "{\n",
    "    \"query_text\": \"And how many COVID patients here?\",\n",
    "    \"query_metadata\": {}\n",
    "},\n",
    "{\n",
    "    \"query_text\": \"No I want the information for Ariyalur\",\n",
    "    \"query_metadata\": {}\n",
    "},\n",
    "{\n",
    "    \"query_text\": \"Ranipet aur Ariyalur ke lie phir batao, kya kya jaankari diya hai aapne?\",\n",
    "    \"query_metadata\": {}\n",
    "},\n",
    "{\n",
    "    \"query_text\": \"What's the distribution of COVID patients in Madurai?\",\n",
    "    \"query_metadata\": {}\n",
    "}\n",
    "]"
   ]
  },
  {
   "cell_type": "code",
   "execution_count": null,
   "metadata": {},
   "outputs": [],
   "source": [
    "from askametric.query_processor.query_processor import MultiTurnQueryProcessor\n",
    "\n",
    "chat_history = []\n",
    "async with async_session() as session:\n",
    "    for query in queries:\n",
    "        print(f\"Q: {query['query_text']}\")\n",
    "        mqp = MultiTurnQueryProcessor(\n",
    "            query=query,\n",
    "            asession=session,\n",
    "            metric_db_id=metric_db_id,\n",
    "            db_type=db_type,\n",
    "            llm=llm,\n",
    "            guardrails_llm=guardrails_llm,\n",
    "            sys_message=sys_message,\n",
    "            db_description=db_description,\n",
    "            column_description=\"\",\n",
    "            indicator_vars=indicator_vars,\n",
    "            num_common_values=num_common_values,\n",
    "            chat_history=chat_history\n",
    "        )\n",
    "        await mqp.process_query()\n",
    "        chat_history.append({\"user\": mqp.reframed_query,\n",
    "                             \"system\": mqp.translated_final_answer})\n",
    "        \n",
    "        \n",
    "        print(f\"Query type: {mqp.query_type}\")\n",
    "        print(f\"Reframed query: {mqp.reframed_query}\")\n",
    "        print(f\"A: {mqp.final_answer}\")\n",
    "        print(\"\\n\")"
   ]
  }
 ],
 "metadata": {
  "kernelspec": {
   "display_name": "askametric-public",
   "language": "python",
   "name": "askametric-public"
  },
  "language_info": {
   "codemirror_mode": {
    "name": "ipython",
    "version": 3
   },
   "file_extension": ".py",
   "mimetype": "text/x-python",
   "name": "python",
   "nbconvert_exporter": "python",
   "pygments_lexer": "ipython3",
   "version": "3.11.0"
  }
 },
 "nbformat": 4,
 "nbformat_minor": 2
}
