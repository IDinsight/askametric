{
 "cells": [
  {
   "cell_type": "code",
   "execution_count": 1,
   "metadata": {},
   "outputs": [
    {
     "data": {
      "text/plain": [
       "True"
      ]
     },
     "execution_count": 1,
     "metadata": {},
     "output_type": "execute_result"
    }
   ],
   "source": [
    "from dotenv import load_dotenv\n",
    "# Load Environment Variables\n",
    "load_dotenv()"
   ]
  },
  {
   "cell_type": "code",
   "execution_count": 2,
   "metadata": {},
   "outputs": [],
   "source": [
    "# Create an engine to connect to the database\n",
    "\n",
    "from sqlalchemy.orm import sessionmaker\n",
    "from sqlalchemy.ext.asyncio import (\n",
    "    AsyncSession,\n",
    "    create_async_engine,\n",
    ")\n",
    "db_type=\"sqlite\"\n",
    "\n",
    "aengine = create_async_engine(\n",
    "    url=f\"{db_type}+aiosqlite:///demo_databases/tn_covid_cases_11_may.sqlite\"\n",
    ")\n",
    "\n",
    "async_session = sessionmaker(\n",
    "    bind=aengine,\n",
    "    class_=AsyncSession,\n",
    "    expire_on_commit=False\n",
    ")"
   ]
  },
  {
   "cell_type": "code",
   "execution_count": 3,
   "metadata": {},
   "outputs": [],
   "source": [
    "# Parameters\n",
    "metric_db_id = \"test\"\n",
    "llm = \"gpt-4o\"\n",
    "validation_llm = \"gpt-4o\"\n",
    "guardrails_llm = \"gpt-4o\"\n",
    "\n",
    "sys_message = \"Government and health officials in Tamil Nadu, India will ask you questions. You need to help them manage COVID cases and the availablity of beds in health facilities.\"\n",
    "\n",
    "db_description = \"- bed_vacancies_clinics_11_may: Each row identifies a district and the beds earmarked, occupied and available for COVID cases in the district clinics.\\\n",
    "- bed_vacancies_health_centers_and_district_hospitals_11_may: Each row identifies a district and the beds earmarked, occupied and available, with and without oxygen supply, and with and without ICU support, for COVID cases in the disctrict health centers and hospitals.\\\n",
    "- covid_cases_11_may: Each row identifies a district and the number of people who received treatment, were discharged and died due to COVID.\\\n",
    "\"\n",
    "\n",
    "indicator_vars=\"district_name\" # This should be a comma delimited string in multiple vars\n"
   ]
  },
  {
   "cell_type": "markdown",
   "metadata": {},
   "source": [
    "### Single-turn question"
   ]
  },
  {
   "cell_type": "code",
   "execution_count": 4,
   "metadata": {},
   "outputs": [],
   "source": [
    "import logging\n",
    "\n",
    "logging.basicConfig(level=logging.INFO)"
   ]
  },
  {
   "cell_type": "code",
   "execution_count": 13,
   "metadata": {},
   "outputs": [],
   "source": [
    "# Your question\n",
    "query = {\n",
    "    \"query_text\": \"How many beds are there in chennai??\",\n",
    "    \"query_metadata\": {}\n",
    "}\n"
   ]
  },
  {
   "cell_type": "code",
   "execution_count": 14,
   "metadata": {},
   "outputs": [
    {
     "name": "stderr",
     "output_type": "stream",
     "text": [
      "\u001b[92m16:25:32 - LiteLLM:INFO\u001b[0m: utils.py:2960 - \n",
      "LiteLLM completion() model= gpt-4o; provider = openai\n",
      "INFO:LiteLLM:\n",
      "LiteLLM completion() model= gpt-4o; provider = openai\n",
      "INFO:httpx:HTTP Request: POST https://api.openai.com/v1/chat/completions \"HTTP/1.1 200 OK\"\n",
      "\u001b[92m16:25:33 - LiteLLM:INFO\u001b[0m: utils.py:2960 - \n",
      "LiteLLM completion() model= gpt-4o; provider = openai\n",
      "INFO:LiteLLM:\n",
      "LiteLLM completion() model= gpt-4o; provider = openai\n",
      "INFO:httpx:HTTP Request: POST https://api.openai.com/v1/chat/completions \"HTTP/1.1 200 OK\"\n",
      "\u001b[92m16:25:35 - LiteLLM:INFO\u001b[0m: utils.py:2960 - \n",
      "LiteLLM completion() model= gpt-4o; provider = openai\n",
      "INFO:LiteLLM:\n",
      "LiteLLM completion() model= gpt-4o; provider = openai\n",
      "INFO:httpx:HTTP Request: POST https://api.openai.com/v1/chat/completions \"HTTP/1.1 200 OK\"\n",
      "\u001b[92m16:25:35 - LiteLLM:INFO\u001b[0m: utils.py:2960 - \n",
      "LiteLLM completion() model= gpt-4o; provider = openai\n",
      "INFO:LiteLLM:\n",
      "LiteLLM completion() model= gpt-4o; provider = openai\n",
      "INFO:httpx:HTTP Request: POST https://api.openai.com/v1/chat/completions \"HTTP/1.1 200 OK\"\n",
      "\u001b[92m16:25:36 - LiteLLM:INFO\u001b[0m: utils.py:2960 - \n",
      "LiteLLM completion() model= gpt-4o; provider = openai\n",
      "INFO:LiteLLM:\n",
      "LiteLLM completion() model= gpt-4o; provider = openai\n",
      "INFO:httpx:HTTP Request: POST https://api.openai.com/v1/chat/completions \"HTTP/1.1 200 OK\"\n",
      "\u001b[92m16:25:38 - LiteLLM:INFO\u001b[0m: utils.py:2960 - \n",
      "LiteLLM completion() model= gpt-4o; provider = openai\n",
      "INFO:LiteLLM:\n",
      "LiteLLM completion() model= gpt-4o; provider = openai\n",
      "INFO:httpx:HTTP Request: POST https://api.openai.com/v1/chat/completions \"HTTP/1.1 200 OK\"\n",
      "\u001b[92m16:25:41 - LiteLLM:INFO\u001b[0m: utils.py:2960 - \n",
      "LiteLLM completion() model= gpt-4o; provider = openai\n",
      "INFO:LiteLLM:\n",
      "LiteLLM completion() model= gpt-4o; provider = openai\n",
      "INFO:httpx:HTTP Request: POST https://api.openai.com/v1/chat/completions \"HTTP/1.1 200 OK\"\n",
      "\u001b[92m16:25:46 - LiteLLM:INFO\u001b[0m: utils.py:2960 - \n",
      "LiteLLM completion() model= gpt-4o; provider = openai\n",
      "INFO:LiteLLM:\n",
      "LiteLLM completion() model= gpt-4o; provider = openai\n",
      "INFO:httpx:HTTP Request: POST https://api.openai.com/v1/chat/completions \"HTTP/1.1 200 OK\"\n"
     ]
    },
    {
     "name": "stdout",
     "output_type": "stream",
     "text": [
      "In Chennai, there are a total of 20,334 beds available. This total is derived from two sources: 7,179 beds are available in clinics, and 13,155 beds are available in health centers and district hospitals. This information is based on the latest data collected from these facilities.\n"
     ]
    }
   ],
   "source": [
    "from askametric.query_processor.query_processor import LLMQueryProcessor\n",
    "\n",
    "async with async_session() as session:\n",
    "    qp = LLMQueryProcessor(\n",
    "        query,\n",
    "        session,\n",
    "        metric_db_id,\n",
    "        db_type,\n",
    "        llm,\n",
    "        guardrails_llm,\n",
    "        sys_message,\n",
    "        db_description,\n",
    "        column_description=\"\",\n",
    "        num_common_values=num_common_values,\n",
    "        indicator_vars=indicator_vars\n",
    "    )\n",
    "    await qp.process_query()\n",
    "    print(qp.final_answer)"
   ]
  },
  {
   "cell_type": "markdown",
   "metadata": {},
   "source": [
    "### Multi-turn chat"
   ]
  },
  {
   "cell_type": "code",
   "execution_count": 10,
   "metadata": {},
   "outputs": [],
   "source": [
    "# Simulating a conversation\n",
    "\n",
    "queries = [{\n",
    "    \"query_text\": \"How many beds are there in chennai??\",\n",
    "    \"query_metadata\": {}\n",
    "},\n",
    "{\n",
    "    \"query_text\": \"How about Ranipet??\",\n",
    "    \"query_metadata\": {}\n",
    "},\n",
    "{\n",
    "    \"query_text\": \"Inge irrukira COVID patients patthi sollu\",\n",
    "    \"query_metadata\": {}\n",
    "},\n",
    "{\n",
    "    \"query_text\": \"How many beds with oxygen supply in Ariyalur??\",\n",
    "    \"query_metadata\": {}\n",
    "},\n",
    "{\n",
    "    \"query_text\": \"And how many COVID patients here?\",\n",
    "    \"query_metadata\": {}\n",
    "},\n",
    "{\n",
    "    \"query_text\": \"Nahin, Ariyalur ke liye batao\",\n",
    "    \"query_metadata\": {}\n",
    "},]\n"
   ]
  },
  {
   "cell_type": "code",
   "execution_count": 11,
   "metadata": {},
   "outputs": [
    {
     "name": "stdout",
     "output_type": "stream",
     "text": [
      "Q: How many beds are there in chennai??\n",
      "A: In Chennai, there are a total of 20,334 beds available. This total is derived from two sources: 7,179 beds are available in clinics, and 13,155 beds are available in health centers and district hospitals. These numbers represent the sum of earmarked beds, including those with and without oxygen supply, as well as ICU beds.\n",
      "\n",
      "\n",
      "Q: How about Ranipet??\n",
      "A: In Ranipet, there are a total of 1,569 beds available. This total is calculated by adding 936 beds from clinics and 633 beds from health centers and district hospitals. This includes beds with and without oxygen supply, as well as ICU beds.\n",
      "\n",
      "\n",
      "Q: Inge irrukira COVID patients patthi sollu\n",
      "A: Ranipet-il COVID manithargal patri ketkirirgal. Angu irukkum data padi, Ranipet-il 2018 COVID manithargal irukkirargal. Ivaril 423 per maruthuvamanaiyil irukkirargal, 277 per maruthuvamanaiyil irundhu viduvikkappattirargal, 2 per maranam adainthirargal. Ithu thavira, 2162 per COVID-ai anubavithu maruthuvamanaiyil irundhu viduvikkappattirargal. Itha data-il irundhu eduththom.\n",
      "\n",
      "\n",
      "Q: How many beds with oxygen supply in Ariyalur??\n",
      "A: There are 314 beds with oxygen supply available in Ariyalur. This information was obtained from the database that tracks bed vacancies in health centers and district hospitals as of May 11th. The data specifically indicates the number of earmarked beds with oxygen supply in the Ariyalur district.\n",
      "\n",
      "\n",
      "Q: And how many COVID patients here?\n",
      "A: As of the data collected on 11th May, there are 37,713 COVID patients in Chennai. This number was obtained from the records that track the number of persons under treatment for COVID in different districts, specifically for Chennai.\n",
      "\n",
      "\n",
      "Q: Nahin, Ariyalur ke liye batao\n",
      "A: Ariyalur mein COVID ke 624 mareez hain. Yeh sankhya 11 May ke data ke adhar par hai, jo humare database se prapt hui hai.\n",
      "\n",
      "\n"
     ]
    }
   ],
   "source": [
    "from askametric.query_processor.query_processor import MultiTurnQueryProcessor\n",
    "\n",
    "chat_history = []\n",
    "async with async_session() as session:\n",
    "    for query in queries:\n",
    "        mqp = MultiTurnQueryProcessor(\n",
    "            query=query,\n",
    "            asession=session,\n",
    "            metric_db_id=metric_db_id,\n",
    "            db_type=db_type,\n",
    "            llm=llm,\n",
    "            guardrails_llm=guardrails_llm,\n",
    "            sys_message=sys_message,\n",
    "            db_description=db_description,\n",
    "            column_description=\"\",\n",
    "            indicator_vars=indicator_vars,\n",
    "            num_common_values=num_common_values,\n",
    "            chat_history=chat_history\n",
    "        )\n",
    "        await mqp.process_query()\n",
    "        chat_history.append({\"user\": mqp.eng_translation[\"query_text\"],\n",
    "                             \"system\": mqp.translated_answer})\n",
    "        print(f\"Q: {query['query_text']}\")\n",
    "        print(f\"A: {mqp.final_answer}\")\n",
    "        print(\"\\n\")"
   ]
  },
  {
   "cell_type": "code",
   "execution_count": null,
   "metadata": {},
   "outputs": [],
   "source": []
  }
 ],
 "metadata": {
  "kernelspec": {
   "display_name": "askametric-JOXIZc-T-py3.11",
   "language": "python",
   "name": "python3"
  },
  "language_info": {
   "codemirror_mode": {
    "name": "ipython",
    "version": 3
   },
   "file_extension": ".py",
   "mimetype": "text/x-python",
   "name": "python",
   "nbconvert_exporter": "python",
   "pygments_lexer": "ipython3",
   "version": "3.12.7"
  }
 },
 "nbformat": 4,
 "nbformat_minor": 2
}
