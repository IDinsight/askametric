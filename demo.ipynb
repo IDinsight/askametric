{
 "cells": [
  {
   "cell_type": "code",
   "execution_count": 1,
   "metadata": {},
   "outputs": [],
   "source": [
    "%load_ext autoreload\n",
    "%autoreload 2\n"
   ]
  },
  {
   "cell_type": "code",
   "execution_count": 2,
   "metadata": {},
   "outputs": [],
   "source": [
    "\n",
    "from dotenv import load_dotenv\n",
    "import os"
   ]
  },
  {
   "cell_type": "code",
   "execution_count": 3,
   "metadata": {},
   "outputs": [
    {
     "data": {
      "text/plain": [
       "True"
      ]
     },
     "execution_count": 3,
     "metadata": {},
     "output_type": "execute_result"
    }
   ],
   "source": [
    "# Load Environment Variables\n",
    "load_dotenv()"
   ]
  },
  {
   "cell_type": "code",
   "execution_count": 4,
   "metadata": {},
   "outputs": [],
   "source": [
    "# Create an engine to connect to the database\n",
    "\n",
    "from sqlalchemy.orm import sessionmaker\n",
    "from sqlalchemy.ext.asyncio import (\n",
    "    AsyncSession,\n",
    "    create_async_engine,\n",
    ")\n",
    "db_type = \"sqlite\"\n",
    "aengine = create_async_engine(\n",
    "    url=\"sqlite+aiosqlite:///demo_databases/tn_covid_cases_11_may.sqlite\"\n",
    ")\n",
    "\n",
    "async_session = sessionmaker(\n",
    "    bind=aengine,\n",
    "    class_=AsyncSession,\n",
    "    expire_on_commit=False\n",
    ")"
   ]
  },
  {
   "cell_type": "code",
   "execution_count": 5,
   "metadata": {},
   "outputs": [],
   "source": [
    "# Parameters\n",
    "metric_db_id = \"test\"\n",
    "llm = \"gpt-4o\"\n",
    "guardrails_llm = \"gpt-4o\"\n",
    "sys_message = \"Government and health officials in Tamil Nadu, India will ask you questions. You need to help them manage COVID cases and the availablity of beds in health facilities.\"\n",
    "db_description = \"- bed_vacancies_clinics_11_may: Each row identifies a district and the beds earmarked, occupied and available for COVID cases in the district clinics.\\\n",
    "- bed_vacancies_health_centers_and_district_hospitals_11_may: Each row identifies a district and the beds earmarked, occupied and available, with and without oxygen supply, and with and without ICU support, for COVID cases in the disctrict health centers and hospitals.\\\n",
    "- covid_cases_11_may: Each row identifies a district and the number of people who received treatment, were discharged and died due to COVID.\\\n",
    "\"\n",
    "db_column_description = \"\"\n",
    "num_common_values = 10\n",
    "indicator_vars=\"district_name\" # This should be a comma delimited string in multiple vars\n",
    "context_length = 5 # <-- how many previous queries to consider for the context\n",
    "\n",
    "# Simulate a conversation with follow-up questions\n",
    "queries = [\n",
    "    # 1\n",
    "    {\n",
    "    \"query_text\": \"How many beds are there in chennai??\",\n",
    "    \"query_metadata\": {}},\n",
    "\n",
    "    # 2\n",
    "    {\"query_text\": \"Order districts by bed availability in ICUs\",\n",
    "                            \"query_metadata\": {}},\n",
    "\n",
    "    # 3\n",
    "    {\"query_text\": \"Which district has the least?\",\n",
    "      \"query_metadata\": {}},\n",
    "\n",
    "    # 4\n",
    "    {\"query_text\": \"Which district has the most?\",\n",
    "      \"query_metadata\": {}},\n",
    "\n",
    "    # 5\n",
    "    {\"query_text\": \"Which has the most cases?\",\n",
    "      \"query_metadata\": {}}\n",
    "]"
   ]
  },
  {
   "cell_type": "code",
   "execution_count": 8,
   "metadata": {},
   "outputs": [
    {
     "name": "stdout",
     "output_type": "stream",
     "text": [
      "Q: How many beds are there in chennai??\n",
      "\n",
      "A: In Chennai, there are a total of 20,334 beds available. This includes 7,179 beds from clinics and 13,155 beds from health centers and district hospitals. The total was calculated by adding the number of earmarked beds from both types of facilities.\n",
      "\n",
      "\n",
      "Q: Order districts by bed availability in ICUs\n",
      "\n",
      "A: The districts ordered by bed availability in ICUs are as follows: Ramanathapuram (46 vacant beds), Thoothukudi (46 vacant beds), Pudukkottai (43 vacant beds), Kanniyakumari (41 vacant beds), Virudhunagar (37 vacant beds), Madurai (31 vacant beds), Thanjavur (28 vacant beds), Sivaganga (27 vacant beds), Tiruchirappalli (25 vacant beds), Salem (23 vacant beds), Perambalur (21 vacant beds), Dindigul (19 vacant beds), Theni (19 vacant beds), Nagapattinam (17 vacant beds), Tenkasi (16 vacant beds), Namakkal (15 vacant beds), Karur (12 vacant beds), Chennai (9 vacant beds), Erode (9 vacant beds), Tiruppur (6 vacant beds), Tiruvarur (6 vacant beds), Nilgiris (4 vacant beds), Tirunelveli (3 vacant beds), Ariyalur (2 vacant beds), Coimbatore (2 vacant beds), Cuddalore (1 vacant bed), Villupuram (1 vacant bed), Chengalpattu (0 vacant beds), Dharmapuri (0 vacant beds), Kallakurichi (0 vacant beds), Kancheepuram (0 vacant beds), Krishnagiri (0 vacant beds), Ranipet (0 vacant beds), Tirupathur (0 vacant beds), Tiruvallur (0 vacant beds), Tiruvannamalai (0 vacant beds), Vellore (0 vacant beds). This information was generated based on the latest data available on bed vacancies in health centers and district hospitals.\n",
      "\n",
      "\n",
      "Q: Which district has the least?\n",
      "\n",
      "A: The district with the least number of beds available is Dharmapuri, with only 10 vacant beds. This information was determined by reviewing the data on bed vacancies across health centers and district hospitals as of May 11th.\n",
      "\n",
      "\n",
      "Q: Which district has the most?\n",
      "\n",
      "A: The district with the most beds available is Chennai, with a total of 3,472 vacant beds. This information was gathered by combining data from both health centers/district hospitals and clinics, and then identifying the district with the highest number of total vacant beds.\n",
      "\n",
      "\n",
      "Q: Which has the most cases?\n",
      "\n",
      "A: The district with the most COVID-19 cases is Chennai, with 37,713 persons under treatment as of May 11. This information was obtained by checking the number of persons under treatment in each district and ordering them to find the highest number.\n",
      "\n",
      "\n"
     ]
    }
   ],
   "source": [
    "from askametric.query_processor.query_processor import LLMQueryProcessor\n",
    "\n",
    "async with async_session() as session:\n",
    "    qp = LLMQueryProcessor(\n",
    "        asession=session,\n",
    "        metric_db_id=metric_db_id,\n",
    "        db_type=db_type,\n",
    "        llm=llm,\n",
    "        guardrails_llm=guardrails_llm,\n",
    "        sys_message=sys_message,\n",
    "        db_description=db_description,\n",
    "        column_description=\"\",\n",
    "        num_common_values=num_common_values,\n",
    "        indicator_vars=indicator_vars,\n",
    "        context_length=context_length\n",
    "    )\n",
    "    for query in queries:\n",
    "        await qp.process_query(query)\n",
    "        print(f\"Q: {query['query_text']}\\n\")\n",
    "        print(f\"A: {qp.user_query_response.text_response}\\n\\n\")\n"
   ]
  },
  {
   "cell_type": "code",
   "execution_count": null,
   "metadata": {},
   "outputs": [],
   "source": []
  }
 ],
 "metadata": {
  "kernelspec": {
   "display_name": "askametric-JOXIZc-T-py3.11",
   "language": "python",
   "name": "python3"
  },
  "language_info": {
   "codemirror_mode": {
    "name": "ipython",
    "version": 3
   },
   "file_extension": ".py",
   "mimetype": "text/x-python",
   "name": "python",
   "nbconvert_exporter": "python",
   "pygments_lexer": "ipython3",
   "version": "3.11.0"
  }
 },
 "nbformat": 4,
 "nbformat_minor": 2
}
