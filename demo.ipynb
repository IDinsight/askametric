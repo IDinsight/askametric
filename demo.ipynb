{
 "cells": [
  {
   "cell_type": "code",
   "execution_count": 1,
   "metadata": {},
   "outputs": [],
   "source": [
    "%load_ext autoreload\n",
    "%autoreload 2\n"
   ]
  },
  {
   "cell_type": "code",
   "execution_count": 2,
   "metadata": {},
   "outputs": [],
   "source": [
    "from dotenv import load_dotenv"
   ]
  },
  {
   "cell_type": "code",
   "execution_count": 3,
   "metadata": {},
   "outputs": [
    {
     "data": {
      "text/plain": [
       "True"
      ]
     },
     "execution_count": 3,
     "metadata": {},
     "output_type": "execute_result"
    }
   ],
   "source": [
    "# Load Environment Variables\n",
    "load_dotenv()"
   ]
  },
  {
   "cell_type": "code",
   "execution_count": 4,
   "metadata": {},
   "outputs": [],
   "source": [
    "# Create an engine to connect to the database\n",
    "\n",
    "from sqlalchemy.orm import sessionmaker\n",
    "from sqlalchemy.ext.asyncio import (\n",
    "    AsyncSession,\n",
    "    create_async_engine,\n",
    ")\n",
    "db_type=\"sqlite\"\n",
    "\n",
    "aengine = create_async_engine(\n",
    "    url=f\"{db_type}+aiosqlite:///demo_databases/tn_covid_cases_11_may.sqlite\"\n",
    ")\n",
    "\n",
    "async_session = sessionmaker(\n",
    "    bind=aengine,\n",
    "    class_=AsyncSession,\n",
    "    expire_on_commit=False\n",
    ")"
   ]
  },
  {
   "cell_type": "code",
   "execution_count": 5,
   "metadata": {},
   "outputs": [],
   "source": [
    "# Parameters\n",
    "metric_db_id = \"test\"\n",
    "llm = \"gpt-4o\"\n",
    "guardrails_llm = \"gpt-4o\"\n",
    "sys_message = \"Government and health officials in Tamil Nadu, India will ask you questions. You need to help them manage COVID cases and the availablity of beds in health facilities.\"\n",
    "db_description = \"- bed_vacancies_clinics_11_may: Each row identifies a district and the beds earmarked, occupied and available for COVID cases in the district clinics.\\\n",
    "- bed_vacancies_health_centers_and_district_hospitals_11_may: Each row identifies a district and the beds earmarked, occupied and available, with and without oxygen supply, and with and without ICU support, for COVID cases in the disctrict health centers and hospitals.\\\n",
    "- covid_cases_11_may: Each row identifies a district and the number of people who received treatment, were discharged and died due to COVID.\\\n",
    "\"\n",
    "num_common_values = 10\n",
    "indicator_vars=\"district_name\" # This should be a comma delimited string in multiple vars\n",
    "\n",
    "# Your question\n",
    "query = {\n",
    "    \"query_text\": \"How many beds are there in chennai??\",\n",
    "    \"query_metadata\": {}\n",
    "}"
   ]
  },
  {
   "cell_type": "code",
   "execution_count": 6,
   "metadata": {},
   "outputs": [
    {
     "name": "stdout",
     "output_type": "stream",
     "text": [
      "In Chennai, there are a total of 20,334 beds available. This total is derived from two sources: 7,179 beds from clinics and 13,155 beds from health centers and district hospitals. This information is based on the latest data collected on May 11.\n"
     ]
    }
   ],
   "source": [
    "# Ask  a question\n",
    "from askametric.query_processor.query_processor import LLMQueryProcessor\n",
    "\n",
    "async with async_session() as session:\n",
    "    qp = LLMQueryProcessor(\n",
    "        query,\n",
    "        session,\n",
    "        metric_db_id,\n",
    "        db_type,\n",
    "        llm,\n",
    "        guardrails_llm,\n",
    "        sys_message,\n",
    "        db_description,\n",
    "        column_description=\"\",\n",
    "        num_common_values=num_common_values,\n",
    "        indicator_vars=indicator_vars\n",
    "    )\n",
    "    await qp.process_query()\n",
    "    print(qp.final_answer)"
   ]
  },
  {
   "cell_type": "code",
   "execution_count": 7,
   "metadata": {},
   "outputs": [],
   "source": [
    "# Validate a question\n",
    "from askametric.validation.validation_processor import QueryEvaluator\n",
    "\n",
    "validation_question = {\n",
    "    \"correct_language\": \"English\",\n",
    "    \"correct_script\": \"Latin\",\n",
    "    \"question\": \"How many active COVID cases are there in Chennai?\",\n",
    "    \"correct_answer\": \"There are 37713 active COVID cases in Chennai as of May 11.\",\n",
    "    \"correct_best_tables\": [\"covid_cases_11_may\"],\n",
    "    \"correct_best_columns\": {\"covid_cases_11_may\": [\"num_persons_under_treatment_on_11_may\",\n",
    "                     \"district_name\"]},\n",
    "    \"tests_to_run\": [\"Relevancy\", \"Accuracy\", \"Guardrails\", \"Instructions\"],\n",
    "    \"instructions\": sys_message\n",
    "}\n",
    "\n",
    "response = LLMQueryProcessor(\n",
    "    {\"query_text\": validation_question[\"question\"], \"query_metadata\": {}},\n",
    "    session,\n",
    "    metric_db_id,\n",
    "    db_type,\n",
    "    llm,\n",
    "    guardrails_llm,\n",
    "    sys_message,\n",
    "    db_description,\n",
    "    column_description=\"\",\n",
    "    num_common_values=num_common_values,\n",
    "    indicator_vars=indicator_vars\n",
    ")\n",
    "await response.process_query()\n",
    "\n",
    "llm_response = {\n",
    "    \"llm_response\": response.final_answer,\n",
    "    \"llm_ided_script\": response.query_script,\n",
    "    \"llm_ided_language\": response.query_language,\n",
    "    \"guardrails_status\": response.guardrails.guardrails_status,\n",
    "    \"llm_ided_best_tables\": response.best_tables,\n",
    "    \"llm_ided_best_columns\": response.best_columns,\n",
    "    }"
   ]
  },
  {
   "cell_type": "code",
   "execution_count": 8,
   "metadata": {},
   "outputs": [],
   "source": [
    "query_evaluator = QueryEvaluator(llm=\"gpt-3.5-turbo\")\n",
    "result = await query_evaluator.get_eval_results(\n",
    "    validation_question,\n",
    "    llm_response)"
   ]
  },
  {
   "cell_type": "code",
   "execution_count": 9,
   "metadata": {},
   "outputs": [
    {
     "data": {
      "text/plain": [
       "{'relevancy_score': 1,\n",
       " 'relevancy_reason': 'The answer directly addresses the key element of the question by providing the specific number of active COVID cases in Chennai as of 11th May.',\n",
       " 'accuracy_score': 1,\n",
       " 'accuracy_reason': \"The 'Answer' provided is similar in meaning to the 'Correct Answer' as both convey the same information about the number of active COVID cases in Chennai on May 11.\",\n",
       " 'accuracy_is_correct_language': 1.0,\n",
       " 'accuracy_is_correct_script': 1.0,\n",
       " 'accuracy_has_best_tables': 1.0,\n",
       " 'accuracy_has_best_columns': 1.0,\n",
       " 'instructions_score': 1,\n",
       " 'instructions_reason': 'The answer provides the specific number of active COVID cases in Chennai as of the given date, which aligns with the instructions to help manage COVID cases and availability of beds in health facilities.',\n",
       " 'guardrails_score': 0.0,\n",
       " 'guardrails_reason': 'All guardrails passed when they should not have'}"
      ]
     },
     "execution_count": 9,
     "metadata": {},
     "output_type": "execute_result"
    }
   ],
   "source": [
    "result"
   ]
  },
  {
   "cell_type": "code",
   "execution_count": null,
   "metadata": {},
   "outputs": [],
   "source": []
  }
 ],
 "metadata": {
  "kernelspec": {
   "display_name": "askametric-JOXIZc-T-py3.11",
   "language": "python",
   "name": "python3"
  },
  "language_info": {
   "codemirror_mode": {
    "name": "ipython",
    "version": 3
   },
   "file_extension": ".py",
   "mimetype": "text/x-python",
   "name": "python",
   "nbconvert_exporter": "python",
   "pygments_lexer": "ipython3",
   "version": "3.11.0"
  }
 },
 "nbformat": 4,
 "nbformat_minor": 2
}
