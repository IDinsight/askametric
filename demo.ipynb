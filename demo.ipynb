{
 "cells": [
  {
   "cell_type": "code",
   "execution_count": 1,
   "metadata": {},
   "outputs": [],
   "source": [
    "%load_ext autoreload\n",
    "%autoreload 2\n",
    "from dotenv import load_dotenv"
   ]
  },
  {
   "cell_type": "code",
   "execution_count": 2,
   "metadata": {},
   "outputs": [
    {
     "data": {
      "text/plain": [
       "True"
      ]
     },
     "execution_count": 2,
     "metadata": {},
     "output_type": "execute_result"
    }
   ],
   "source": [
    "# Load Environment Variables\n",
    "load_dotenv()"
   ]
  },
  {
   "cell_type": "code",
   "execution_count": 3,
   "metadata": {},
   "outputs": [],
   "source": [
    "# Create an engine to connect to the database\n",
    "\n",
    "from sqlalchemy.orm import sessionmaker\n",
    "from sqlalchemy.ext.asyncio import (\n",
    "    AsyncSession,\n",
    "    create_async_engine,\n",
    ")\n",
    "db_type=\"sqlite\"\n",
    "\n",
    "aengine = create_async_engine(\n",
    "    url=f\"{db_type}+aiosqlite:///demo_databases/tn_covid_cases_11_may.sqlite\"\n",
    ")\n",
    "\n",
    "async_session = sessionmaker(\n",
    "    bind=aengine,\n",
    "    class_=AsyncSession,\n",
    "    expire_on_commit=False\n",
    ")"
   ]
  },
  {
   "cell_type": "code",
   "execution_count": 4,
   "metadata": {},
   "outputs": [],
   "source": [
    "# Parameters\n",
    "metric_db_id = \"test\"\n",
    "llm = \"gpt-4o\"\n",
    "validation_llm = \"gpt-4o\"\n",
    "guardrails_llm = \"gpt-4o\"\n",
    "sys_message = \"Government and health officials in Tamil Nadu, India will ask you questions. You need to help them manage COVID cases and the availablity of beds in health facilities.\"\n",
    "db_description = \"- bed_vacancies_clinics_11_may: Each row identifies a district and the beds earmarked, occupied and available for COVID cases in the district clinics.\\\n",
    "- bed_vacancies_health_centers_and_district_hospitals_11_may: Each row identifies a district and the beds earmarked, occupied and available, with and without oxygen supply, and with and without ICU support, for COVID cases in the disctrict health centers and hospitals.\\\n",
    "- covid_cases_11_may: Each row identifies a district and the number of people who received treatment, were discharged and died due to COVID.\\\n",
    "\"\n",
    "num_common_values = 10\n",
    "indicator_vars=\"district_name\" # This should be a comma delimited string in multiple vars\n"
   ]
  },
  {
   "cell_type": "markdown",
   "metadata": {},
   "source": [
    "### Single-turn question"
   ]
  },
  {
   "cell_type": "code",
   "execution_count": 5,
   "metadata": {},
   "outputs": [],
   "source": [
    "# Your question\n",
    "query = {\n",
    "    \"query_text\": \"How many beds are there in chennai??\",\n",
    "    \"query_metadata\": {}\n",
    "}\n"
   ]
  },
  {
   "cell_type": "code",
   "execution_count": 6,
   "metadata": {},
   "outputs": [
    {
     "name": "stderr",
     "output_type": "stream",
     "text": [
      "/home/poornima/.cache/pypoetry/virtualenvs/askametric-JOXIZc-T-py3.11/lib/python3.11/site-packages/pydantic/main.py:390: UserWarning: Pydantic serializer warnings:\n",
      "  Expected `PromptTokensDetails` but got `dict` with value `{'audio_tokens': None, 'cached_tokens': 0}` - serialized value may not be as expected\n",
      "  return self.__pydantic_serializer__.to_python(\n",
      "/home/poornima/.cache/pypoetry/virtualenvs/askametric-JOXIZc-T-py3.11/lib/python3.11/site-packages/pydantic/main.py:390: UserWarning: Pydantic serializer warnings:\n",
      "  Expected `PromptTokensDetails` but got `dict` with value `{'audio_tokens': None, 'cached_tokens': 1152}` - serialized value may not be as expected\n",
      "  return self.__pydantic_serializer__.to_python(\n"
     ]
    },
    {
     "name": "stdout",
     "output_type": "stream",
     "text": [
      "In Chennai, there are a total of 20,334 beds available. This total comes from two sources: 7,179 beds are from clinics, and 13,155 beds are from health centers and district hospitals. These numbers include beds with and without oxygen supply, as well as ICU beds.\n"
     ]
    }
   ],
   "source": [
    "from askametric.query_processor.query_processor import LLMQueryProcessor\n",
    "\n",
    "async with async_session() as session:\n",
    "    qp = LLMQueryProcessor(\n",
    "        query,\n",
    "        session,\n",
    "        metric_db_id,\n",
    "        db_type,\n",
    "        llm,\n",
    "        guardrails_llm,\n",
    "        sys_message,\n",
    "        db_description,\n",
    "        column_description=\"\",\n",
    "        num_common_values=num_common_values,\n",
    "        indicator_vars=indicator_vars\n",
    "    )\n",
    "    await qp.process_query()\n",
    "    print(qp.final_answer)"
   ]
  },
  {
   "cell_type": "markdown",
   "metadata": {},
   "source": [
    "### Multi-turn chat"
   ]
  },
  {
   "cell_type": "code",
   "execution_count": 10,
   "metadata": {},
   "outputs": [],
   "source": [
    "# Simulating a conversation\n",
    "queries = [{\n",
    "    \"query_text\": \"How many beds are there in chennai??\",\n",
    "    \"query_metadata\": {}\n",
    "},\n",
    "{\n",
    "    \"query_text\": \"How about Ranipet??\",\n",
    "    \"query_metadata\": {}\n",
    "},\n",
    "{\n",
    "    \"query_text\": \"Yahan COVID patients ke baare me batao??\",\n",
    "    \"query_metadata\": {}\n",
    "},\n",
    "{\n",
    "    \"query_text\": \"Nahin, Ranipet ke liye manga tha\",\n",
    "    \"query_metadata\": {}\n",
    "},\n",
    "{\n",
    "    \"query_text\": \"How many beds with oxygen supply in Ariyalur??\",\n",
    "    \"query_metadata\": {}\n",
    "},\n",
    "{\n",
    "    \"query_text\": \"And how many COVID patients here?\",\n",
    "    \"query_metadata\": {}\n",
    "},\n",
    "{\n",
    "    \"query_text\": \"Nahin, Ranipet ke liye batao\",\n",
    "    \"query_metadata\": {}\n",
    "},]"
   ]
  },
  {
   "cell_type": "code",
   "execution_count": 13,
   "metadata": {},
   "outputs": [
    {
     "name": "stdout",
     "output_type": "stream",
     "text": [
      "Q: How many beds are there in chennai??\n",
      "A: In Chennai, there are a total of 20,334 beds available. This total comes from two sources: 7,179 beds are from clinics, and 13,155 beds are from health centers and district hospitals. These numbers include beds with and without oxygen supply, as well as ICU beds.\n",
      "\n",
      "\n",
      "Q: How about Ranipet??\n",
      "A: The availability of beds for COVID-19 patients in Ranipet is as follows: There are 153 vacant beds in clinics and 90 vacant beds in health centers and district hospitals. This information was gathered by checking the current data on bed vacancies specifically for the Ranipet district.\n",
      "\n",
      "\n",
      "Q: Yahan COVID patients ke baare me batao??\n",
      "A: Tamil Nadu mein COVID-19 ke maamle kuch is prakar hain: Ariyalur mein 624 log ilaaj ke liye hain aur 106 naye maamle aaye hain. Chengalpattu mein 13038 log ilaaj ke liye hain aur 2419 naye maamle aaye hain. Chennai mein 37713 log ilaaj ke liye hain aur 7466 naye maamle aaye hain. Coimbatore mein 14324 log ilaaj ke liye hain aur 2650 naye maamle aaye hain. Is prakar har district ka data ikattha kiya gaya hai. Yeh data 11 May ke liye hai aur ismein naye maamle, discharge hue log aur maut ke maamle shamil hain. Is data ko dekh kar hum samajh sakte hain ki kis district mein kitne maamle hain aur kis tarah se trend chal raha hai.\n",
      "\n",
      "\n"
     ]
    },
    {
     "name": "stderr",
     "output_type": "stream",
     "text": [
      "/home/poornima/.cache/pypoetry/virtualenvs/askametric-JOXIZc-T-py3.11/lib/python3.11/site-packages/pydantic/main.py:390: UserWarning: Pydantic serializer warnings:\n",
      "  Expected `PromptTokensDetails` but got `dict` with value `{'audio_tokens': None, 'cached_tokens': 0}` - serialized value may not be as expected\n",
      "  return self.__pydantic_serializer__.to_python(\n"
     ]
    },
    {
     "name": "stdout",
     "output_type": "stream",
     "text": [
      "Q: Nahin, Ranipet ke liye manga tha\n",
      "A: Ranipet ke liye COVID-19 ke maamle aur bed availability ki jaankari yeh hai: 11 May tak 2018 log ilaaj ke liye admit the, aur 11 May ko 423 naye maamle aaye. Us din 277 log discharge hue aur 2 logon ki maut hui. Abhi 2162 log ilaaj ke liye hospital mein hain. Bed availability ki baat karein toh, clinics mein 936 earmarked beds hain jismein se 783 occupied hain aur 153 vacant hain. Health centers aur district hospitals mein 265 earmarked beds with O2 supply hain, 339 without O2 supply, aur 29 ICU beds hain. Inmein se 265 beds with O2 supply, 249 without O2 supply, aur 29 ICU beds occupied hain. Vacant beds ki baat karein toh, O2 supply ke saath koi vacant bed nahi hai, bina O2 supply ke 90 vacant beds hain, aur ICU mein koi vacant bed nahi hai. Total 90 vacant beds hain.\n",
      "\n",
      "\n",
      "Q: How many beds with oxygen supply in Ariyalur??\n",
      "A: There are 314 beds with oxygen supply available in Ariyalur. This information was obtained from the database that tracks bed vacancies in health centers and district hospitals as of May 11th. The data specifically indicates the number of earmarked beds with oxygen supply in the Ariyalur district.\n",
      "\n",
      "\n",
      "Q: And how many COVID patients here?\n",
      "A: Currently, there are 624 COVID patients in Ariyalur. This information was obtained from the data collected on May 11, which tracks the number of persons under treatment in each district.\n",
      "\n",
      "\n",
      "Q: Nahin, Ranipet ke liye batao\n",
      "A: Ranipet mein filhaal 2162 COVID patients hain. Yeh sankhya humne COVID cases database se prapt ki hai jo 11 May ke data par aadharit hai.\n",
      "\n",
      "\n"
     ]
    }
   ],
   "source": [
    "from askametric.query_processor.query_processor import MultiTurnQueryProcessor\n",
    "\n",
    "chat_history = []\n",
    "async with async_session() as session:\n",
    "    for query in queries:\n",
    "        mqp = MultiTurnQueryProcessor(\n",
    "            query=query,\n",
    "            asession=session,\n",
    "            metric_db_id=metric_db_id,\n",
    "            db_type=db_type,\n",
    "            llm=llm,\n",
    "            guardrails_llm=guardrails_llm,\n",
    "            sys_message=sys_message,\n",
    "            db_description=db_description,\n",
    "            column_description=\"\",\n",
    "            indicator_vars=indicator_vars,\n",
    "            num_common_values=num_common_values,\n",
    "            chat_history=chat_history\n",
    "        )\n",
    "\n",
    "        await mqp.process_query()\n",
    "        chat_history.append({\"user\": mqp.eng_translation[\"query_text\"],\n",
    "                             \"system\": mqp.translated_answer,})\n",
    "        print(f\"Q: {query['query_text']}\")\n",
    "        print(f\"A: {mqp.final_answer}\")\n",
    "        print(\"\\n\")"
   ]
  },
  {
   "cell_type": "code",
   "execution_count": null,
   "metadata": {},
   "outputs": [],
   "source": []
  }
 ],
 "metadata": {
  "kernelspec": {
   "display_name": "askametric-JOXIZc-T-py3.11",
   "language": "python",
   "name": "python3"
  },
  "language_info": {
   "codemirror_mode": {
    "name": "ipython",
    "version": 3
   },
   "file_extension": ".py",
   "mimetype": "text/x-python",
   "name": "python",
   "nbconvert_exporter": "python",
   "pygments_lexer": "ipython3",
   "version": "3.11.0"
  }
 },
 "nbformat": 4,
 "nbformat_minor": 2
}
