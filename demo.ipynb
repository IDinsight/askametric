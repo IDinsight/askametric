{
 "cells": [
  {
   "cell_type": "code",
   "execution_count": 1,
   "metadata": {},
   "outputs": [],
   "source": [
    "%load_ext autoreload\n",
    "%autoreload 2\n",
    "from dotenv import load_dotenv"
   ]
  },
  {
   "cell_type": "code",
   "execution_count": 2,
   "metadata": {},
   "outputs": [
    {
     "data": {
      "text/plain": [
       "True"
      ]
     },
     "execution_count": 2,
     "metadata": {},
     "output_type": "execute_result"
    }
   ],
   "source": [
    "# Load Environment Variables\n",
    "load_dotenv()"
   ]
  },
  {
   "cell_type": "code",
   "execution_count": 3,
   "metadata": {},
   "outputs": [],
   "source": [
    "# Create an engine to connect to the database\n",
    "\n",
    "from sqlalchemy.orm import sessionmaker\n",
    "from sqlalchemy.ext.asyncio import (\n",
    "    AsyncSession,\n",
    "    create_async_engine,\n",
    ")\n",
    "db_type=\"sqlite\"\n",
    "\n",
    "aengine = create_async_engine(\n",
    "    url=f\"{db_type}+aiosqlite:///demo_databases/tn_covid_cases_11_may.sqlite\"\n",
    ")\n",
    "\n",
    "async_session = sessionmaker(\n",
    "    bind=aengine,\n",
    "    class_=AsyncSession,\n",
    "    expire_on_commit=False\n",
    ")"
   ]
  },
  {
   "cell_type": "code",
   "execution_count": 4,
   "metadata": {},
   "outputs": [],
   "source": [
    "# Parameters\n",
    "metric_db_id = \"test\"\n",
    "llm = \"gpt-4o\"\n",
    "validation_llm = \"gpt-4o\"\n",
    "guardrails_llm = \"gpt-4o\"\n",
    "sys_message = \"Government and health officials in Tamil Nadu, India will ask you questions. You need to help them manage COVID cases and the availablity of beds in health facilities.\"\n",
    "db_description = \"- bed_vacancies_clinics_11_may: Each row identifies a district and the beds earmarked, occupied and available for COVID cases in the district clinics.\\\n",
    "- bed_vacancies_health_centers_and_district_hospitals_11_may: Each row identifies a district and the beds earmarked, occupied and available, with and without oxygen supply, and with and without ICU support, for COVID cases in the disctrict health centers and hospitals.\\\n",
    "- covid_cases_11_may: Each row identifies a district and the number of people who received treatment, were discharged and died due to COVID.\\\n",
    "\"\n",
    "num_common_values = 10\n",
    "indicator_vars=\"district_name\" # This should be a comma delimited string in multiple vars\n"
   ]
  },
  {
   "cell_type": "markdown",
   "metadata": {},
   "source": [
    "### Single-turn question"
   ]
  },
  {
   "cell_type": "code",
   "execution_count": 12,
   "metadata": {},
   "outputs": [],
   "source": [
    "# Your question\n",
    "query = {\n",
    "    \"query_text\": \"How many beds are there in chennai??\",\n",
    "    \"query_metadata\": {}\n",
    "}\n"
   ]
  },
  {
   "cell_type": "code",
   "execution_count": 13,
   "metadata": {},
   "outputs": [
    {
     "name": "stdout",
     "output_type": "stream",
     "text": [
      "In Chennai, there are a total of 20,334 beds available. This total is calculated by adding 7,179 beds from clinics and 13,155 beds from health centers and district hospitals. This information is based on the data collected as of May 11.\n"
     ]
    }
   ],
   "source": [
    "from askametric.query_processor.query_processor import LLMQueryProcessor\n",
    "\n",
    "async with async_session() as session:\n",
    "    qp = LLMQueryProcessor(\n",
    "        query,\n",
    "        session,\n",
    "        metric_db_id,\n",
    "        db_type,\n",
    "        llm,\n",
    "        guardrails_llm,\n",
    "        sys_message,\n",
    "        db_description,\n",
    "        column_description=\"\",\n",
    "        num_common_values=num_common_values,\n",
    "        indicator_vars=indicator_vars\n",
    "    )\n",
    "    await qp.process_query()\n",
    "    print(qp.final_answer)"
   ]
  },
  {
   "cell_type": "markdown",
   "metadata": {},
   "source": [
    "### Multi-turn chat"
   ]
  },
  {
   "cell_type": "code",
   "execution_count": 5,
   "metadata": {},
   "outputs": [],
   "source": [
    "# Simulating a conversation\n",
    "queries = [{\n",
    "    \"query_text\": \"How many beds are there in chennai??\",\n",
    "    \"query_metadata\": {}\n",
    "},\n",
    "{\n",
    "    \"query_text\": \"How about Ranipet??\",\n",
    "    \"query_metadata\": {}\n",
    "},\n",
    "{\n",
    "    \"query_text\": \"COVID patients ke baare me batao??\",\n",
    "    \"query_metadata\": {}\n",
    "},\n",
    "{\n",
    "    \"query_text\": \"How many beds with oxygen supply in Ariyalur??\",\n",
    "    \"query_metadata\": {}\n",
    "},\n",
    "{\n",
    "    \"query_text\": \"And how many COVID patients?\",\n",
    "    \"query_metadata\": {}\n",
    "},\n",
    "{\n",
    "    \"query_text\": \"Nahin, Ranipur me batao\",\n",
    "    \"query_metadata\": {}\n",
    "},]"
   ]
  },
  {
   "cell_type": "code",
   "execution_count": 6,
   "metadata": {},
   "outputs": [
    {
     "name": "stderr",
     "output_type": "stream",
     "text": [
      "/home/poornima/.cache/pypoetry/virtualenvs/askametric-JOXIZc-T-py3.11/lib/python3.11/site-packages/pydantic/main.py:390: UserWarning: Pydantic serializer warnings:\n",
      "  Expected `PromptTokensDetails` but got `dict` with value `{'audio_tokens': None, 'cached_tokens': 0}` - serialized value may not be as expected\n",
      "  return self.__pydantic_serializer__.to_python(\n",
      "/home/poornima/.cache/pypoetry/virtualenvs/askametric-JOXIZc-T-py3.11/lib/python3.11/site-packages/pydantic/main.py:390: UserWarning: Pydantic serializer warnings:\n",
      "  Expected `PromptTokensDetails` but got `dict` with value `{'audio_tokens': None, 'cached_tokens': 1152}` - serialized value may not be as expected\n",
      "  return self.__pydantic_serializer__.to_python(\n"
     ]
    },
    {
     "name": "stdout",
     "output_type": "stream",
     "text": [
      "Q: How many beds are there in chennai??\n",
      "A: In Chennai, there are a total of 20,334 beds available. This number is the sum of 7,179 beds from clinics and 13,155 beds from health centers and district hospitals. These figures include beds with and without oxygen supply, as well as ICU beds.\n",
      "\n",
      "\n"
     ]
    },
    {
     "name": "stderr",
     "output_type": "stream",
     "text": [
      "/home/poornima/.cache/pypoetry/virtualenvs/askametric-JOXIZc-T-py3.11/lib/python3.11/site-packages/pydantic/main.py:390: UserWarning: Pydantic serializer warnings:\n",
      "  Expected `PromptTokensDetails` but got `dict` with value `{'audio_tokens': None, 'cached_tokens': 1024}` - serialized value may not be as expected\n",
      "  return self.__pydantic_serializer__.to_python(\n"
     ]
    },
    {
     "name": "stdout",
     "output_type": "stream",
     "text": [
      "Q: How about Ranipet??\n",
      "A: In Ranipet, there are a total of 243 beds available. This number is the sum of 153 vacant beds from clinics and 90 vacant beds from health centers and district hospitals. This information is based on the latest data collected from these facilities.\n",
      "\n",
      "\n",
      "Q: COVID patients ke baare me batao??\n",
      "A: Tamil Nadu ke COVID patients ke baare mein jaankari yeh hai ki har district mein kitne log treatment mein hain, naye cases, discharge hone wale cases, aur deaths ka data diya gaya hai. Saath hi, har district mein kitne beds khaali hain, yeh bhi bataya gaya hai. Jaise ki, Chennai mein 37,713 log treatment mein hain, 7,466 naye cases hain, 4,583 log discharge ho chuke hain, aur 92 deaths hui hain. Chennai mein 3,472 beds khaali hain. Isi tarah, Coimbatore mein 14,324 log treatment mein hain, 2,650 naye cases hain, 1,723 log discharge ho chuke hain, aur 19 deaths hui hain, aur wahan 276 beds khaali hain. Yeh data 11 May ke liye hai aur har district ka alag-alag data diya gaya hai. Aapko kisi specific district ka data chahiye toh bata sakte hain.\n",
      "\n",
      "\n",
      "Q: How many beds with oxygen supply in Ariyalur??\n",
      "A: There are 314 beds with oxygen supply available in Ariyalur. This information was obtained from the data collected on bed vacancies in health centers and district hospitals as of May 11th. The number reflects the current capacity for beds equipped with oxygen in the district.\n",
      "\n",
      "\n",
      "Q: And how many COVID patients?\n",
      "A: As of the data available for May 11, there are a total of 162,181 COVID patients under treatment in Tamil Nadu. This number was obtained by summing up the reported cases from the database for that specific date.\n",
      "\n",
      "\n",
      "Q: Nahin, Ranipur me batao\n",
      "A: Ranipet mein COVID ke 2162 mareez hain. Yeh sankhya 11 May ke data ke adhar par hai, jo ki COVID cases ke record se li gayi hai.\n",
      "\n",
      "\n"
     ]
    }
   ],
   "source": [
    "from askametric.query_processor.query_processor import MultiTurnQueryProcessor\n",
    "\n",
    "chat_history = []\n",
    "async with async_session() as session:\n",
    "    for query in queries:\n",
    "        mqp = MultiTurnQueryProcessor(\n",
    "            query=query,\n",
    "            asession=session,\n",
    "            metric_db_id=metric_db_id,\n",
    "            db_type=db_type,\n",
    "            llm=llm,\n",
    "            guardrails_llm=guardrails_llm,\n",
    "            sys_message=sys_message,\n",
    "            db_description=db_description,\n",
    "            column_description=\"\",\n",
    "            indicator_vars=indicator_vars,\n",
    "            num_common_values=num_common_values,\n",
    "            chat_history=chat_history\n",
    "        )\n",
    "\n",
    "        await mqp.process_query()\n",
    "        chat_history.append({\"user\": query[\"query_text\"],\n",
    "                             \"system\": mqp.final_answer})\n",
    "        print(f\"Q: {query['query_text']}\")\n",
    "        print(f\"A: {mqp.final_answer}\")\n",
    "        print(\"\\n\")"
   ]
  },
  {
   "cell_type": "code",
   "execution_count": null,
   "metadata": {},
   "outputs": [],
   "source": []
  }
 ],
 "metadata": {
  "kernelspec": {
   "display_name": "askametric-JOXIZc-T-py3.11",
   "language": "python",
   "name": "python3"
  },
  "language_info": {
   "codemirror_mode": {
    "name": "ipython",
    "version": 3
   },
   "file_extension": ".py",
   "mimetype": "text/x-python",
   "name": "python",
   "nbconvert_exporter": "python",
   "pygments_lexer": "ipython3",
   "version": "3.11.0"
  }
 },
 "nbformat": 4,
 "nbformat_minor": 2
}
