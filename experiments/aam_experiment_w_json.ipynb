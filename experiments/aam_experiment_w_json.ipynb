{
 "cells": [
  {
   "cell_type": "code",
   "execution_count": 1,
   "metadata": {},
   "outputs": [
    {
     "data": {
      "text/plain": [
       "True"
      ]
     },
     "execution_count": 1,
     "metadata": {},
     "output_type": "execute_result"
    }
   ],
   "source": [
    "\n",
    "# Load in AAM\n",
    "from askametric.query_processor.query_processor import LLMQueryProcessor\n",
    "\n",
    "from dotenv import load_dotenv\n",
    "\n",
    "from sqlalchemy.orm import sessionmaker\n",
    "from sqlalchemy.ext.asyncio import (\n",
    "    AsyncSession,\n",
    "    create_async_engine,\n",
    ")\n",
    "\n",
    "# Load Environment Variables\n",
    "load_dotenv(\".env\")"
   ]
  },
  {
   "cell_type": "markdown",
   "metadata": {},
   "source": [
    "## Investigating issues with the JSON columns in SQLite (reproduces same error as with Postgres db)\n",
    "\n",
    "### UPDATE: We have updated the pipeline to tell the LLM exactly which database type it is connected to. This seems to solve the issue"
   ]
  },
  {
   "cell_type": "code",
   "execution_count": 2,
   "metadata": {},
   "outputs": [],
   "source": [
    "# Parameters\n",
    "metric_db_id = \"tn_covid_cases_11_may\"\n",
    "llm = \"gpt-4o\"\n",
    "guardrails_llm = \"gpt-4o\"\n",
    "sys_message = \"Government and health officials in Tamil Nadu, India will ask you questions. You need to help them manage COVID cases and the availablity of beds in health facilities.\"\n",
    "original_db_description = \"- bed_vacancies_clinics_may_11: Each row identifies a district and the beds earmarked, occupied and available for COVID cases in the district clinics.\\\n",
    "- bed_vacancies_health_centers_and_district_hospitals_11_may: Each row identifies a district and the beds earmarked, occupied and available, with and without oxygen supply, and with and without ICU support, for COVID cases in the disctrict health centers and hospitals.\\\n",
    "- covid_cases_11_may: Each row identifies a district and the number of people who received treatment, were discharged and died due to COVID.\\\n",
    "\"\n",
    "\n",
    "updated_sys_message = \"Government and health officials in Tamil Nadu, India will ask you questions. You need to help them manage COVID cases and the availablity of beds in health facilities.\\\n",
    "    The database contains JSON columns. Use `json_extract` to extract the required information.\"\n",
    "updated_db_description = \"- bed_vacancies_clinics_11_may: Each row identifies a district and a JSON object including the beds earmarked, occupied and available for COVID cases in the district clinics.\\\n",
    "- bed_vacancies_health_centers_and_district_hospitals_11_may: Each row identifies a district and the beds earmarked, occupied and available, with and without oxygen supply, and with and without ICU support, for COVID cases in the disctrict health centers and hospitals.\\\n",
    "- covid_cases_11_may: Each row identifies a district and the number of people who received treatment, were discharged and died due to COVID.\\\n",
    "\"\n",
    "\n",
    "num_common_values = 10\n",
    "indicator_vars=\"\""
   ]
  },
  {
   "cell_type": "code",
   "execution_count": 3,
   "metadata": {},
   "outputs": [],
   "source": [
    "\"\"\" Get assession for db schema and aam \"\"\"\n",
    "aengine = create_async_engine(\n",
    "            url=\"sqlite+aiosqlite:///./tn_covid_cases_11_may_with_jsonb.sqlite\"\n",
    "        )\n",
    "\n",
    "async_session = sessionmaker(\n",
    "    bind=aengine,\n",
    "    class_=AsyncSession,\n",
    "    expire_on_commit=False\n",
    ")"
   ]
  },
  {
   "cell_type": "code",
   "execution_count": 4,
   "metadata": {},
   "outputs": [
    {
     "name": "stdout",
     "output_type": "stream",
     "text": [
      "The district with the most available beds in clinics is Chennai, with 3,472 vacant beds. This information was determined by checking the number of vacant beds in each district and finding that Chennai has the highest number.\n",
      "SELECT district_name, json_extract(available_beds, '$.vacant_beds') AS vacant_beds FROM bed_vacancies_clinics_11_may ORDER BY vacant_beds DESC LIMIT 1;\n"
     ]
    }
   ],
   "source": [
    "question = \"Which district has the most available beds in clinics?\"\n",
    "async with async_session() as session:\n",
    "    qp = LLMQueryProcessor(\n",
    "        {\"query_text\": question, \"query_metadata\": {}},\n",
    "        session,\n",
    "        metric_db_id,\n",
    "        \"sqlite\",\n",
    "        \"gpt-4o\",\n",
    "        \"gpt-4o\",\n",
    "        sys_message,\n",
    "        updated_db_description,\n",
    "        column_description=\"\",\n",
    "        num_common_values=num_common_values,\n",
    "        indicator_vars=indicator_vars\n",
    "    )\n",
    "    await qp.process_query()\n",
    "\n",
    "print(qp.final_answer)\n",
    "print(qp.sql_query)"
   ]
  },
  {
   "cell_type": "code",
   "execution_count": 5,
   "metadata": {},
   "outputs": [
    {
     "name": "stdout",
     "output_type": "stream",
     "text": [
      "The district with the most available beds in clinics is Chennai, with 3472 vacant beds. This information was obtained by checking the number of vacant beds in each district and identifying the one with the highest count.\n",
      "SELECT district_name, json_extract(available_beds, '$.vacant_beds') AS vacant_beds FROM bed_vacancies_clinics_11_may ORDER BY vacant_beds DESC LIMIT 1;\n"
     ]
    }
   ],
   "source": [
    "# retry with updated description and system message\n",
    "question = \"Which district had the most available beds in clinics\" #<--need to remove question mark to get around the cache\n",
    "async with async_session() as session:\n",
    "    qp = LLMQueryProcessor(\n",
    "        {\"query_text\": question, \"query_metadata\": {}},\n",
    "        session,\n",
    "        metric_db_id,\n",
    "        \"sqlite\",\n",
    "        \"gpt-4o\",\n",
    "        \"gpt-4o\",\n",
    "        updated_sys_message,\n",
    "        updated_db_description,\n",
    "        column_description=\"\",\n",
    "        num_common_values=num_common_values,\n",
    "        indicator_vars=indicator_vars\n",
    "    )\n",
    "    await qp.process_query()\n",
    "\n",
    "print(qp.final_answer)\n",
    "print(qp.sql_query)"
   ]
  },
  {
   "cell_type": "code",
   "execution_count": null,
   "metadata": {},
   "outputs": [],
   "source": []
  }
 ],
 "metadata": {
  "kernelspec": {
   "display_name": "askametric-public",
   "language": "python",
   "name": "askametric-public"
  },
  "language_info": {
   "codemirror_mode": {
    "name": "ipython",
    "version": 3
   },
   "file_extension": ".py",
   "mimetype": "text/x-python",
   "name": "python",
   "nbconvert_exporter": "python",
   "pygments_lexer": "ipython3",
   "version": "3.11.0"
  }
 },
 "nbformat": 4,
 "nbformat_minor": 2
}
